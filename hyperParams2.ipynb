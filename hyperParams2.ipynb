{
 "cells": [
  {
   "cell_type": "code",
   "execution_count": 1,
   "id": "b8a0216e",
   "metadata": {},
   "outputs": [],
   "source": [
    "from experiments import *"
   ]
  },
  {
   "cell_type": "code",
   "execution_count": 2,
   "id": "7e35a1ce",
   "metadata": {},
   "outputs": [
    {
     "data": {
      "text/plain": [
       "[(5, 3, 5, 2, 12), (5, 3, 5, 3, 13), (5, 3, 5, 4, 14), (5, 3, 5, 5, 15)]"
      ]
     },
     "execution_count": 2,
     "metadata": {},
     "output_type": "execute_result"
    }
   ],
   "source": [
    "import itertools\n",
    "# weights: u, h/H, C, f1, fc1 \n",
    "wu = [5]\n",
    "wh = [3]\n",
    "wC = [5]\n",
    "wf1 = list(range(2,6))\n",
    "seed = 1234 # not set random seed\n",
    "weights = [(wu[0],wh[0],wC[0], w, w+10) for w in wf1] \n",
    "weights"
   ]
  },
  {
   "cell_type": "code",
   "execution_count": null,
   "id": "bbc50151",
   "metadata": {},
   "outputs": [
    {
     "name": "stdout",
     "output_type": "stream",
     "text": [
      "Hyperparameters:\n",
      "{\n",
      "  \"N_u\": 100,\n",
      "  \"N_f\": 500,\n",
      "  \"layers\": [\n",
      "    1,\n",
      "    20,\n",
      "    20,\n",
      "    20,\n",
      "    20,\n",
      "    1\n",
      "  ],\n",
      "  \"h_layers\": [\n",
      "    1,\n",
      "    20,\n",
      "    20,\n",
      "    20,\n",
      "    20,\n",
      "    2\n",
      "  ],\n",
      "  \"C_layers\": [\n",
      "    1,\n",
      "    20,\n",
      "    20,\n",
      "    20,\n",
      "    20,\n",
      "    1\n",
      "  ],\n",
      "  \"tf_epochs\": 100000,\n",
      "  \"tf_lr\": 0.001,\n",
      "  \"tf_b1\": 0.99,\n",
      "  \"tf_eps\": 0.1,\n",
      "  \"nt_epochs\": 50000,\n",
      "  \"log_frequency\": 10000,\n",
      "  \"save_history\": true,\n",
      "  \"history_frequency\": 10\n",
      "}\n",
      "\n",
      "TensorFlow version: 2.4.1\n",
      "Eager execution: True\n",
      "GPU-accerelated: [PhysicalDevice(name='/physical_device:GPU:0', device_type='GPU')]\n",
      "\n",
      "Training started\n",
      "================\n",
      "Model: \"sequential\"\n",
      "_________________________________________________________________\n",
      "Layer (type)                 Output Shape              Param #   \n",
      "=================================================================\n",
      "minmax_scale_layer (MinmaxSc (None, 1)                 4         \n",
      "_________________________________________________________________\n",
      "dense (Dense)                (None, 20)                40        \n",
      "_________________________________________________________________\n",
      "dense_1 (Dense)              (None, 20)                420       \n",
      "_________________________________________________________________\n",
      "dense_2 (Dense)              (None, 20)                420       \n",
      "_________________________________________________________________\n",
      "dense_3 (Dense)              (None, 20)                420       \n",
      "_________________________________________________________________\n",
      "dense_4 (Dense)              (None, 1)                 21        \n",
      "_________________________________________________________________\n",
      "up_scale_layer (UpScaleLayer (None, 1)                 4         \n",
      "=================================================================\n",
      "Total params: 1,329\n",
      "Trainable params: 1,321\n",
      "Non-trainable params: 8\n",
      "_________________________________________________________________\n",
      "Model: \"sequential_1\"\n",
      "_________________________________________________________________\n",
      "Layer (type)                 Output Shape              Param #   \n",
      "=================================================================\n",
      "minmax_scale_layer_1 (Minmax (None, 1)                 4         \n",
      "_________________________________________________________________\n",
      "dense_5 (Dense)              (None, 20)                40        \n",
      "_________________________________________________________________\n",
      "dense_6 (Dense)              (None, 20)                420       \n",
      "_________________________________________________________________\n",
      "dense_7 (Dense)              (None, 20)                420       \n",
      "_________________________________________________________________\n",
      "dense_8 (Dense)              (None, 20)                420       \n",
      "_________________________________________________________________\n",
      "dense_9 (Dense)              (None, 2)                 42        \n",
      "_________________________________________________________________\n",
      "up_scale_layer_1 (UpScaleLay (None, 2)                 6         \n",
      "=================================================================\n",
      "Total params: 1,352\n",
      "Trainable params: 1,342\n",
      "Non-trainable params: 10\n",
      "_________________________________________________________________\n",
      "Model: \"sequential_2\"\n",
      "_________________________________________________________________\n",
      "Layer (type)                 Output Shape              Param #   \n",
      "=================================================================\n",
      "minmax_scale_layer_2 (Minmax (None, 1)                 4         \n",
      "_________________________________________________________________\n",
      "dense_10 (Dense)             (None, 20)                40        \n",
      "_________________________________________________________________\n",
      "dense_11 (Dense)             (None, 20)                420       \n",
      "_________________________________________________________________\n",
      "dense_12 (Dense)             (None, 20)                420       \n",
      "_________________________________________________________________\n",
      "dense_13 (Dense)             (None, 20)                420       \n",
      "_________________________________________________________________\n",
      "dense_14 (Dense)             (None, 1)                 21        \n",
      "_________________________________________________________________\n",
      "up_scale_layer_2 (UpScaleLay (None, 1)                 4         \n",
      "=================================================================\n",
      "Total params: 1,329\n",
      "Trainable params: 1,321\n",
      "Non-trainable params: 8\n",
      "_________________________________________________________________\n",
      "(None, None, None)\n",
      "[1.e-05 1.e-03 1.e-05 1.e-02 1.e-12]\n",
      "-- Starting Adam optimization --\n"
     ]
    }
   ],
   "source": [
    "for i in range(7):\n",
    "    for w in weights:\n",
    "        experiment_1D_3NN_hyperparameter_search(list(w), epochADAM=100000, epochLBFGS=50000, N_u=100, N_f=500, seed=None, log_frequency=10000, NLayers=4)"
   ]
  },
  {
   "cell_type": "code",
   "execution_count": null,
   "id": "1b589f26",
   "metadata": {},
   "outputs": [],
   "source": []
  }
 ],
 "metadata": {
  "kernelspec": {
   "display_name": "Python 3",
   "language": "python",
   "name": "python3"
  },
  "language_info": {
   "codemirror_mode": {
    "name": "ipython",
    "version": 3
   },
   "file_extension": ".py",
   "mimetype": "text/x-python",
   "name": "python",
   "nbconvert_exporter": "python",
   "pygments_lexer": "ipython3",
   "version": "3.8.8"
  }
 },
 "nbformat": 4,
 "nbformat_minor": 5
}
