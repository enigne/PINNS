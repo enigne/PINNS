{
 "cells": [
  {
   "cell_type": "code",
   "execution_count": 1,
   "id": "fface058",
   "metadata": {},
   "outputs": [],
   "source": [
    "from experiments import *"
   ]
  },
  {
   "cell_type": "code",
   "execution_count": 2,
   "id": "e15360ab",
   "metadata": {},
   "outputs": [
    {
     "data": {
      "text/plain": [
       "[(5, 1, 5, 5, 10),\n",
       " (5, 1, 5, 7, 10),\n",
       " (5, 1, 5, 9, 10),\n",
       " (5, 3, 5, 5, 10),\n",
       " (5, 3, 5, 7, 10),\n",
       " (5, 3, 5, 9, 10),\n",
       " (5, 5, 5, 5, 10),\n",
       " (5, 5, 5, 7, 10),\n",
       " (5, 5, 5, 9, 10)]"
      ]
     },
     "execution_count": 2,
     "metadata": {},
     "output_type": "execute_result"
    }
   ],
   "source": [
    "import itertools\n",
    "# weights: u, h/H, C, f1, fc1 \n",
    "wu = [5]\n",
    "wh = [1,3,5]\n",
    "wC = [5]\n",
    "wf1 = [5,7,9]\n",
    "wfc1 = [10]\n",
    "\n",
    "weights = list(itertools.product(*[wu,wh,wC,wf1,wfc1]))\n",
    "weights"
   ]
  },
  {
   "cell_type": "code",
   "execution_count": null,
   "id": "058ece79",
   "metadata": {},
   "outputs": [
    {
     "name": "stdout",
     "output_type": "stream",
     "text": [
      "Hyperparameters:\n",
      "{\n",
      "  \"N_u\": 100,\n",
      "  \"N_f\": 500,\n",
      "  \"layers\": [\n",
      "    1,\n",
      "    20,\n",
      "    20,\n",
      "    20,\n",
      "    20,\n",
      "    20,\n",
      "    20,\n",
      "    20,\n",
      "    20,\n",
      "    4\n",
      "  ],\n",
      "  \"tf_epochs\": 100000,\n",
      "  \"tf_lr\": 0.001,\n",
      "  \"tf_b1\": 0.99,\n",
      "  \"tf_eps\": 0.1,\n",
      "  \"nt_epochs\": 50000,\n",
      "  \"log_frequency\": 1000,\n",
      "  \"save_history\": true,\n",
      "  \"history_frequency\": 10\n",
      "}\n",
      "\n",
      "TensorFlow version: 2.4.1\n",
      "Eager execution: True\n",
      "GPU-accerelated: [PhysicalDevice(name='/physical_device:GPU:0', device_type='GPU')]\n",
      "\n",
      "Training started\n",
      "================\n",
      "Model: \"sequential\"\n",
      "_________________________________________________________________\n",
      "Layer (type)                 Output Shape              Param #   \n",
      "=================================================================\n",
      "minmax_scale_layer (MinmaxSc (None, 1)                 4         \n",
      "_________________________________________________________________\n",
      "dense (Dense)                (None, 20)                40        \n",
      "_________________________________________________________________\n",
      "dense_1 (Dense)              (None, 20)                420       \n",
      "_________________________________________________________________\n",
      "dense_2 (Dense)              (None, 20)                420       \n",
      "_________________________________________________________________\n",
      "dense_3 (Dense)              (None, 20)                420       \n",
      "_________________________________________________________________\n",
      "dense_4 (Dense)              (None, 20)                420       \n",
      "_________________________________________________________________\n",
      "dense_5 (Dense)              (None, 20)                420       \n",
      "_________________________________________________________________\n",
      "dense_6 (Dense)              (None, 20)                420       \n",
      "_________________________________________________________________\n",
      "dense_7 (Dense)              (None, 20)                420       \n",
      "_________________________________________________________________\n",
      "dense_8 (Dense)              (None, 4)                 84        \n",
      "_________________________________________________________________\n",
      "up_scale_layer (UpScaleLayer (None, 4)                 10        \n",
      "=================================================================\n",
      "Total params: 3,078\n",
      "Trainable params: 3,064\n",
      "Non-trainable params: 14\n",
      "_________________________________________________________________\n",
      "None\n",
      "[1.e-05 1.e-01 1.e-05 1.e-05 1.e-10]\n",
      "-- Starting Adam optimization --\n",
      "tf_epoch =      0  elapsed = 00:06 (+06.2)  loss = 3.8714e+05  \n",
      "tf_epoch =   1000  elapsed = 00:13 (+06.8)  loss = 1.3188e+05  \n",
      "tf_epoch =   2000  elapsed = 00:19 (+06.6)  loss = 1.0309e+05  \n",
      "tf_epoch =   3000  elapsed = 00:26 (+06.6)  loss = 6.5988e+04  \n",
      "tf_epoch =   4000  elapsed = 00:33 (+06.7)  loss = 3.0469e+04  \n",
      "tf_epoch =   5000  elapsed = 00:39 (+06.6)  loss = 1.0393e+04  \n",
      "tf_epoch =   6000  elapsed = 00:46 (+06.6)  loss = 8.9135e+03  \n",
      "tf_epoch =   7000  elapsed = 00:52 (+06.6)  loss = 6.6671e+03  \n",
      "tf_epoch =   8000  elapsed = 00:59 (+06.6)  loss = 6.8870e+03  \n",
      "tf_epoch =   9000  elapsed = 01:06 (+06.5)  loss = 7.1446e+03  \n",
      "tf_epoch =  10000  elapsed = 01:12 (+06.7)  loss = 7.2309e+03  \n",
      "tf_epoch =  11000  elapsed = 01:19 (+06.6)  loss = 8.3338e+03  \n",
      "tf_epoch =  12000  elapsed = 01:26 (+06.6)  loss = 8.2727e+03  \n",
      "tf_epoch =  13000  elapsed = 01:32 (+06.6)  loss = 8.2675e+03  \n",
      "tf_epoch =  14000  elapsed = 01:39 (+06.6)  loss = 6.1963e+03  \n",
      "tf_epoch =  15000  elapsed = 01:46 (+06.6)  loss = 6.5321e+03  \n",
      "tf_epoch =  16000  elapsed = 01:52 (+06.5)  loss = 7.8309e+03  \n",
      "tf_epoch =  17000  elapsed = 01:59 (+06.6)  loss = 7.2185e+03  \n",
      "tf_epoch =  18000  elapsed = 02:05 (+06.5)  loss = 5.6786e+03  \n",
      "tf_epoch =  19000  elapsed = 02:12 (+06.6)  loss = 6.1075e+03  \n",
      "tf_epoch =  20000  elapsed = 02:19 (+06.5)  loss = 6.8856e+03  \n",
      "tf_epoch =  21000  elapsed = 02:25 (+06.5)  loss = 6.1934e+03  \n",
      "tf_epoch =  22000  elapsed = 02:32 (+06.6)  loss = 5.1008e+03  \n",
      "tf_epoch =  23000  elapsed = 02:38 (+06.6)  loss = 3.5571e+03  \n",
      "tf_epoch =  24000  elapsed = 02:45 (+06.6)  loss = 2.8626e+03  \n",
      "tf_epoch =  25000  elapsed = 02:52 (+06.6)  loss = 2.5378e+03  \n",
      "tf_epoch =  26000  elapsed = 02:58 (+06.5)  loss = 2.7482e+03  \n",
      "tf_epoch =  27000  elapsed = 03:05 (+06.5)  loss = 3.5347e+03  \n",
      "tf_epoch =  28000  elapsed = 03:11 (+06.6)  loss = 2.9278e+03  \n"
     ]
    }
   ],
   "source": [
    "for w in weights:\n",
    "    experiment_1D_hyperparameter_search(list(w), epochADAM=100000, epochLBFGS=50000, N_u=100, N_f=500)"
   ]
  },
  {
   "cell_type": "code",
   "execution_count": null,
   "id": "13b4b4b1",
   "metadata": {},
   "outputs": [],
   "source": []
  }
 ],
 "metadata": {
  "kernelspec": {
   "display_name": "Python 3",
   "language": "python",
   "name": "python3"
  },
  "language_info": {
   "codemirror_mode": {
    "name": "ipython",
    "version": 3
   },
   "file_extension": ".py",
   "mimetype": "text/x-python",
   "name": "python",
   "nbconvert_exporter": "python",
   "pygments_lexer": "ipython3",
   "version": "3.8.8"
  }
 },
 "nbformat": 4,
 "nbformat_minor": 5
}
