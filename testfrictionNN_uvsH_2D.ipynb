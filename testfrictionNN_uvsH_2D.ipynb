{
 "cells": [
  {
   "cell_type": "code",
   "execution_count": null,
   "id": "98717b0a",
   "metadata": {},
   "outputs": [],
   "source": [
    "from experiments import *"
   ]
  },
  {
   "cell_type": "code",
   "execution_count": null,
   "id": "70401668",
   "metadata": {},
   "outputs": [],
   "source": [
    "# inputlist = [\"Helheim_Big_PINN_obs_ITSLIVE0\"] #, \"Helheim_Big_PINN_obs_ITSLIVE2007\", \"Helheim_Big_PINN_obs_Rignot2012\", \"Helheim_Big_PINN_obs_JoughinComposite\"]\n",
    "# outputlist = [\"SSA2D_ITSLIVE0_4000\"] #, \"SSA2D_ITSLIVE2007\", \"SSA2D_Rignot2012\", \"SSA2D_Joughin\"]"
   ]
  },
  {
   "cell_type": "code",
   "execution_count": null,
   "id": "a5e0628a",
   "metadata": {},
   "outputs": [],
   "source": [
    "inputlist = [\"Helheim_Weertman_iT080_PINN_fastflow_CF\"] \n",
    "outputlist = [\"SSA2D_FlightTrackH\"] "
   ]
  },
  {
   "cell_type": "code",
   "execution_count": null,
   "id": "38fcb1bd",
   "metadata": {},
   "outputs": [],
   "source": [
    "for i in range(len(inputlist)):\n",
    "    experiment_2D_3NN_test((5, 3, 5, 8, 14), epochADAM=400000, seed=None, N_u=4000, N_H=500, N_C=None, N_f=9000, NNeurons=20, NLayers=6, FlightTrack=True, inputFileName=inputlist[i], outputFileName=outputlist[i])"
   ]
  },
  {
   "cell_type": "code",
   "execution_count": null,
   "id": "20633a8e",
   "metadata": {},
   "outputs": [],
   "source": [
    "for i in range(len(inputlist)):\n",
    "    experiment_2D_3NN_test((5, 3, 5, 10, 16), epochADAM=400000, seed=None, N_u=4000, N_H=500, N_C=None, N_f=9000, NNeurons=20, NLayers=6, FlightTrack=True, inputFileName=inputlist[i], outputFileName=outputlist[i])"
   ]
  },
  {
   "cell_type": "code",
   "execution_count": null,
   "id": "8fbf3be8",
   "metadata": {},
   "outputs": [],
   "source": [
    "for i in range(len(inputlist)):\n",
    "    experiment_2D_3NN_test((5, 3, 5, 8, 14), epochADAM=400000, seed=None, N_u=4000, N_H=250, N_C=None, N_f=9000, NNeurons=20, NLayers=6, FlightTrack=True, inputFileName=inputlist[i], outputFileName=outputlist[i])"
   ]
  },
  {
   "cell_type": "code",
   "execution_count": null,
   "id": "f39f9515",
   "metadata": {},
   "outputs": [],
   "source": [
    "for i in range(len(inputlist)):\n",
    "    experiment_2D_3NN_test((5, 3, 5, 10, 16), epochADAM=400000, seed=None, N_u=4000, N_H=250, N_C=None, N_f=9000, NNeurons=20, NLayers=6, FlightTrack=True, inputFileName=inputlist[i], outputFileName=outputlist[i])"
   ]
  }
 ],
 "metadata": {
  "kernelspec": {
   "display_name": "Python 3",
   "language": "python",
   "name": "python3"
  },
  "language_info": {
   "codemirror_mode": {
    "name": "ipython",
    "version": 3
   },
   "file_extension": ".py",
   "mimetype": "text/x-python",
   "name": "python",
   "nbconvert_exporter": "python",
   "pygments_lexer": "ipython3",
   "version": "3.8.8"
  }
 },
 "nbformat": 4,
 "nbformat_minor": 5
}
