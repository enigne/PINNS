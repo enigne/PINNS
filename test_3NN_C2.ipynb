{
 "cells": [
  {
   "cell_type": "code",
   "execution_count": null,
   "id": "5f6969cf",
   "metadata": {},
   "outputs": [],
   "source": [
    "import sys\n",
    "import os\n",
    "import tensorflow as tf\n",
    "import numpy as np\n",
    "import matplotlib.pyplot as plt\n",
    "\n",
    "from utils import *\n",
    "from equations import *"
   ]
  },
  {
   "cell_type": "code",
   "execution_count": null,
   "id": "609639c2",
   "metadata": {},
   "outputs": [],
   "source": [
    "# Manually making sure the numpy random seeds are \"the same\" on all devices\n",
    "np.random.seed(1234)\n",
    "tf.random.set_seed(1234)\n",
    "\n",
    "# Hyper parameters {{{\n",
    "hp = {}\n",
    "# Data size on the solution u\n",
    "hp[\"N_u\"] = 3000\n",
    "# Collocation points size, where we’ll check for f = 0\n",
    "hp[\"N_f\"] = 500\n",
    "# DeepNN topology (2-sized input [x t], 8 hidden layer of 20-width, 1-sized output [u]\n",
    "hp[\"layers\"] = [2, 20, 20, 20, 20, 20, 2]\n",
    "hp[\"h_layers\"] = [2, 20, 20, 20, 20, 20,2]\n",
    "hp[\"C_layers\"] = [2, 20, 20, 20, 20, 20, 1]\n",
    "# Setting up the TF SGD-based optimizer (set tf_epochs=0 to cancel it)\n",
    "hp[\"tf_epochs\"] = 100000\n",
    "hp[\"tf_lr\"] = 0.001\n",
    "hp[\"tf_b1\"] = 0.99\n",
    "hp[\"tf_eps\"] = 1e-1\n",
    "# Setting up the quasi-newton LBGFS optimizer (set nt_epochs=0 to cancel it)\n",
    "hp[\"nt_epochs\"] = 50000\n",
    "hp[\"nt_lr\"] = 0.8\n",
    "hp[\"nt_ncorr\"] = 50\n",
    "hp[\"log_frequency\"] = 1000\n",
    "hp[\"use_tfp\"] = True\n",
    "# Record the history\n",
    "hp[\"save_history\"] = True\n",
    "hp[\"history_frequency\"] = 10\n",
    "# path for loading data and saving models\n",
    "repoPath = \"./\"\n",
    "appDataPath = os.path.join(repoPath, \"matlab_SSA\", \"DATA\")\n",
    "# path = os.path.join(appDataPath, \"SSA2D_nocalving.mat\")\n",
    "# path = os.path.join(appDataPath, \"SSA2D_seg_nocalving.mat\")\n",
    "path = os.path.join(appDataPath, \"SSA2D_segCF.mat\")\n",
    "# path = os.path.join(appDataPath, \"Helheim_Weertman_iT080_PINN_fastflow_CF.mat\")\n",
    "modelPath = \"./Models/test\"\n",
    "reloadModel = False # reload from previous training\n",
    "#}}}"
   ]
  },
  {
   "cell_type": "code",
   "execution_count": null,
   "id": "61aab6d9",
   "metadata": {},
   "outputs": [],
   "source": [
    "# load the data\n",
    "x, y, Exact_vx, Exact_vy, X_star, u_star, X_u_train, u_train, X_f, X_bc, u_bc, X_cf, n_cf, xub, xlb, uub, ulb = prep_Helheim_data_all(path, hp[\"N_u\"], hp[\"N_f\"])\n",
    "\n",
    "# Creating the model and training\n",
    "logger = Logger(hp)\n",
    "pinn = SSA3NN_calvingfront_invertC(hp, logger, X_f, \n",
    "        X_bc, u_bc,\n",
    "        X_cf, n_cf,\n",
    "        xub, xlb, uub, ulb, \n",
    "        modelPath, reloadModel,\n",
    "        mu=1.1060e8,\n",
    "        loss_weights=[1e-1, 1e-2, 1e-2, 1e-4, 1e-10])\n",
    "\n",
    "X_u = pinn.tensor(X_star)\n",
    "u = pinn.tensor(u_star)\n",
    "# error function for logger\n",
    "def error():\n",
    "    return pinn.test_error(X_u, u)\n",
    "logger.set_error_fn(error)"
   ]
  },
  {
   "cell_type": "code",
   "execution_count": null,
   "id": "49800add",
   "metadata": {},
   "outputs": [],
   "source": [
    "# train the model\n",
    "pinn.fit(X_u_train, u_train)\n",
    "\n",
    "# save\n",
    "#pinn.model.save(\"./Models/SSA2D_friction_1e_4_TF\"+str(hp[\"tf_epochs\"]) +\"_NT\"+str(hp[\"nt_epochs\"]))"
   ]
  },
  {
   "cell_type": "code",
   "execution_count": null,
   "id": "57e9b5cb",
   "metadata": {},
   "outputs": [],
   "source": [
    "# plot\n",
    "vranges = {}\n",
    "vranges['u - u obs']=[-20, 20]\n",
    "vranges['v - v obs']=[-20, 20]\n",
    "vranges['H - H obs']=[-20, 20]\n",
    "vranges['h - h obs']=[-20, 20]\n",
    "vranges['C - C obs']=[-500, 500]\n",
    "vranges['C pred']=[0, 3500]\n",
    "plot_Helheim_all(pinn, X_f, X_star, u_star, xlb, xub, vranges)\n",
    "\n",
    "# history\n",
    "plot_log_history(pinn)"
   ]
  },
  {
   "cell_type": "code",
   "execution_count": null,
   "id": "e512b8c1",
   "metadata": {},
   "outputs": [],
   "source": []
  }
 ],
 "metadata": {
  "kernelspec": {
   "display_name": "Python 3",
   "language": "python",
   "name": "python3"
  },
  "language_info": {
   "codemirror_mode": {
    "name": "ipython",
    "version": 3
   },
   "file_extension": ".py",
   "mimetype": "text/x-python",
   "name": "python",
   "nbconvert_exporter": "python",
   "pygments_lexer": "ipython3",
   "version": "3.8.8"
  }
 },
 "nbformat": 4,
 "nbformat_minor": 5
}
