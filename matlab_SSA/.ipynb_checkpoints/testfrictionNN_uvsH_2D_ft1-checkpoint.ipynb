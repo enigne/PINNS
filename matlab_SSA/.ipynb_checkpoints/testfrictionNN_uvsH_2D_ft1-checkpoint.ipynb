{
 "cells": [
  {
   "cell_type": "code",
   "execution_count": null,
   "id": "95a6e205",
   "metadata": {},
   "outputs": [],
   "source": []
  },
  {
   "cell_type": "code",
   "execution_count": null,
   "id": "9ebbb85a",
   "metadata": {},
   "outputs": [],
   "source": [
    "from experiments import *\n",
    "inputlist = [\"Helheim_Weertman_iT080_PINN_fastflow_CF_1500\"] \n",
    "outputlist = [\"SSA2D_FlightTrackH250\"]\n",
    "experiment_2D_3NN_test((8, 6, 8, 10, 18), epochADAM=500000, seed=None, N_u=4000, \n",
    "                       N_H=4000, N_C=None, N_f=9000, NNeurons=20, NLayers=6, \n",
    "                       FlightTrack=True, inputFileName=inputlist[i], outputFileName=outputlist[i])"
   ]
  }
 ],
 "metadata": {
  "kernelspec": {
   "display_name": "Python 3",
   "language": "python",
   "name": "python3"
  },
  "language_info": {
   "codemirror_mode": {
    "name": "ipython",
    "version": 3
   },
   "file_extension": ".py",
   "mimetype": "text/x-python",
   "name": "python",
   "nbconvert_exporter": "python",
   "pygments_lexer": "ipython3",
   "version": "3.7.10"
  }
 },
 "nbformat": 4,
 "nbformat_minor": 5
}
