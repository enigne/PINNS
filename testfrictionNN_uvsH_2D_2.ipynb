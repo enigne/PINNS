{
 "cells": [
  {
   "cell_type": "code",
   "execution_count": null,
   "id": "20272318",
   "metadata": {},
   "outputs": [],
   "source": [
    "from experiments import *"
   ]
  },
  {
   "cell_type": "code",
   "execution_count": null,
   "id": "2bea1633",
   "metadata": {},
   "outputs": [],
   "source": [
    "# # inputlist = [\"Helheim_Weertman_iT080_PINN_fastflow_fl\"]\n",
    "# inputlist = [\"Helheim_Weertman_iT080_PINN_fastflow_CF\"]\n",
    "\n",
    "# outputlist = [\"SSA2D_3NN_test_NH125\"]\n",
    "\n",
    "# # SSA2D_3NN_test_NH250_3NN_6x20_weights5_3_5_10_16_20231110_161914\n",
    "inputlist = [\"Helheim_Big_PINN_fastflow_Rignot_SMW_JoughinComposite\"] #, \"Helheim_Big_PINN_obs_ITSLIVE2007\", \"Helheim_Big_PINN_obs_Rignot2012\", \"Helheim_Big_PINN_obs_JoughinComposite\"]\n",
    "outputlist = [\"SSA2D_4NN\"] #, \"SSA2D_ITSLIVE2007\", \"SSA2D_Rignot2012\", \"SSA2D_Joughin\"]"
   ]
  },
  {
   "cell_type": "code",
   "execution_count": null,
   "id": "a0a28587",
   "metadata": {},
   "outputs": [],
   "source": [
    "for i in range(len(inputlist)):\n",
    "    experiment_2D_4NN_test((5, 3, 5, 8, 14, 8), epochADAM=400000, seed=None, N_u=4000, N_H=4000, N_C=None, N_f=9000, N_mu=None, NNeurons=20, NLayers=6, inputFileName=inputlist[i], outputFileName=outputlist[i])"
   ]
  },
  {
   "cell_type": "code",
   "execution_count": null,
   "id": "a004b7a9",
   "metadata": {},
   "outputs": [],
   "source": [
    "for i in range(len(inputlist)):\n",
    "    experiment_2D_4NN_test((5, 3, 5, 8, 14, 6), epochADAM=400000, seed=None, N_u=4000, N_H=4000, N_C=None, N_f=9000, N_mu=None, NNeurons=20, NLayers=6, inputFileName=inputlist[i], outputFileName=outputlist[i])"
   ]
  }
 ],
 "metadata": {
  "kernelspec": {
   "display_name": "Python 3",
   "language": "python",
   "name": "python3"
  },
  "language_info": {
   "codemirror_mode": {
    "name": "ipython",
    "version": 3
   },
   "file_extension": ".py",
   "mimetype": "text/x-python",
   "name": "python",
   "nbconvert_exporter": "python",
   "pygments_lexer": "ipython3",
   "version": "3.8.8"
  }
 },
 "nbformat": 4,
 "nbformat_minor": 5
}
